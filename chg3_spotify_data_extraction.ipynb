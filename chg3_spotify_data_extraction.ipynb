{
 "metadata": {
  "language_info": {
   "codemirror_mode": {
    "name": "ipython",
    "version": 3
   },
   "file_extension": ".py",
   "mimetype": "text/x-python",
   "name": "python",
   "nbconvert_exporter": "python",
   "pygments_lexer": "ipython3",
   "version": "3.7.6-final"
  },
  "orig_nbformat": 2,
  "kernelspec": {
   "name": "Python 3.7.6 64-bit ('base': conda)",
   "display_name": "Python 3.7.6 64-bit ('base': conda)",
   "metadata": {
    "interpreter": {
     "hash": "b3ba2566441a7c06988d0923437866b63cedc61552a5af99d1f4fb67d367b25f"
    }
   }
  }
 },
 "nbformat": 4,
 "nbformat_minor": 2,
 "cells": [
  {
   "cell_type": "code",
   "execution_count": 1,
   "metadata": {},
   "outputs": [],
   "source": [
    "import argparse\n",
    "import logging\n",
    "import pandas as pd\n",
    "import spotipy\n",
    "from spotipy.oauth2 import SpotifyClientCredentials\n",
    "import numpy as np "
   ]
  },
  {
   "cell_type": "code",
   "execution_count": 2,
   "metadata": {},
   "outputs": [],
   "source": [
    "client_id = \"087c43da5f8f4701af2195902f821d91\"\n",
    "client_secret = \"4f1fae6fda2b4304a72390aeeca957fc\"\n",
    "client_credentials_manager = SpotifyClientCredentials(client_id=client_id, client_secret=client_secret)\n",
    "sp = spotipy.Spotify(client_credentials_manager=client_credentials_manager)"
   ]
  },
  {
   "cell_type": "code",
   "execution_count": null,
   "metadata": {},
   "outputs": [],
   "source": [
    "spotipy.oauth2.SpotifyClientCredentials.get_access_token(client_credentials_manager)"
   ]
  },
  {
   "cell_type": "code",
   "execution_count": 3,
   "metadata": {},
   "outputs": [],
   "source": [
    "response1 = sp.playlist_tracks('spotify:playlist:37i9dQZF1DWUQuMV5yVzhv')\n",
    "number_of_artist = np.arange(0,50)\n",
    "num_a = np.arange(0,50)\n",
    "number_of_tracks = [0,1,2,3,4]\n",
    "number_of_songs = [0,1,2,3,4]\n",
    "uri_list = []\n",
    "track_names = []\n",
    "track_uris = []\n",
    "track_ids = []\n",
    "track_urls = []\n",
    "artist_names = []\n",
    "artist2_names=[]\n",
    "test_dict = {}"
   ]
  },
  {
   "cell_type": "code",
   "execution_count": 4,
   "metadata": {},
   "outputs": [],
   "source": [
    "for number in number_of_artist:\n",
    "    uri = response1['items'][number]['track']['album']['artists'][0]['uri']\n",
    "    uri_list.append(uri)"
   ]
  },
  {
   "cell_type": "code",
   "execution_count": 5,
   "metadata": {},
   "outputs": [],
   "source": [
    "for number in number_of_artist:\n",
    "    a_name = response1['items'][number]['track']['album']['artists'][0]['name']\n",
    "    artist_names.append(a_name)\n",
    "    artist_names.append(a_name)\n",
    "    artist_names.append(a_name)\n",
    "    artist_names.append(a_name)\n",
    "    artist_names.append(a_name)\n"
   ]
  },
  {
   "cell_type": "code",
   "execution_count": null,
   "metadata": {},
   "outputs": [],
   "source": [
    "test_dict['Artists'] = artist_names[0:25]"
   ]
  },
  {
   "cell_type": "code",
   "execution_count": 6,
   "metadata": {},
   "outputs": [],
   "source": [
    "for uri in uri_list:\n",
    "    for number in number_of_tracks:\n",
    "        try:\n",
    "            response = sp.artist_top_tracks(uri)\n",
    "            t_name = response['tracks'][number]['name']\n",
    "            track_names.append(t_name)\n",
    "            t_uri = response['tracks'][number]['uri']\n",
    "            t_id = t_uri[14:36]\n",
    "            track_ids.append(t_id)\n",
    "            track_uris.append(t_uri)\n",
    "            t_url = response['tracks'][number]['external_urls']['spotify']\n",
    "            t_url2 = t_url[:25] + 'embed/' + t_url[25:]\n",
    "            track_urls.append(t_url2)\n",
    "        except:\n",
    "            print('Necessary Data Missing From Track Response')\n"
   ]
  },
  {
   "cell_type": "code",
   "execution_count": 7,
   "metadata": {},
   "outputs": [],
   "source": [
    "artist_info_dict = {\n",
    "    'Artist':artist_names,\n",
    "    'Tracks':track_names,\n",
    "    'Track_ID':track_ids,\n",
    "    'Track_Play_URL':track_urls\n",
    "}"
   ]
  },
  {
   "cell_type": "code",
   "execution_count": 8,
   "metadata": {},
   "outputs": [],
   "source": [
    "artist_db = pd.DataFrame(artist_info_dict)\n",
    "artist_db.to_csv('test.csv')"
   ]
  }
 ]
}