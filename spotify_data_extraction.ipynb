{
 "metadata": {
  "language_info": {
   "codemirror_mode": {
    "name": "ipython",
    "version": 3
   },
   "file_extension": ".py",
   "mimetype": "text/x-python",
   "name": "python",
   "nbconvert_exporter": "python",
   "pygments_lexer": "ipython3",
   "version": "3.7.6-final"
  },
  "orig_nbformat": 2,
  "kernelspec": {
   "name": "Python 3.7.6 64-bit ('base': conda)",
   "display_name": "Python 3.7.6 64-bit ('base': conda)",
   "metadata": {
    "interpreter": {
     "hash": "b3ba2566441a7c06988d0923437866b63cedc61552a5af99d1f4fb67d367b25f"
    }
   }
  }
 },
 "nbformat": 4,
 "nbformat_minor": 2,
 "cells": [
  {
   "cell_type": "code",
   "execution_count": 36,
   "metadata": {},
   "outputs": [],
   "source": [
    "import argparse\n",
    "import logging\n",
    "import pandas as pd\n",
    "import spotipy\n",
    "from spotipy.oauth2 import SpotifyClientCredentials\n",
    "import pprint"
   ]
  },
  {
   "cell_type": "code",
   "execution_count": 2,
   "metadata": {},
   "outputs": [],
   "source": [
    "client_id = \"087c43da5f8f4701af2195902f821d91\"\n",
    "client_secret = \"4f1fae6fda2b4304a72390aeeca957fc\"\n",
    "client_credentials_manager = SpotifyClientCredentials(client_id=client_id, client_secret=client_secret)\n",
    "sp = spotipy.Spotify(client_credentials_manager=client_credentials_manager)"
   ]
  },
  {
   "cell_type": "code",
   "execution_count": 3,
   "metadata": {},
   "outputs": [],
   "source": [
    "urn = \"spotify:artist:246dkjvS1zLTtiykXe5h60\""
   ]
  },
  {
   "cell_type": "code",
   "execution_count": 4,
   "metadata": {},
   "outputs": [],
   "source": [
    "response = sp.artist_top_tracks(urn)"
   ]
  },
  {
   "cell_type": "code",
   "execution_count": 10,
   "metadata": {},
   "outputs": [],
   "source": [
    "test = pd.DataFrame(response)"
   ]
  },
  {
   "cell_type": "code",
   "execution_count": 17,
   "metadata": {},
   "outputs": [],
   "source": [
    "track_name = response['tracks'][0]['name']"
   ]
  },
  {
   "cell_type": "code",
   "execution_count": 18,
   "metadata": {},
   "outputs": [],
   "source": [
    "track_id = response['tracks'][0]['uri']"
   ]
  },
  {
   "cell_type": "code",
   "execution_count": 19,
   "metadata": {},
   "outputs": [
    {
     "output_type": "execute_result",
     "data": {
      "text/plain": [
       "{'Circles': 'spotify:track:21jGcNKet2qwijlDFuPiPb'}"
      ]
     },
     "metadata": {},
     "execution_count": 19
    }
   ],
   "source": [
    "track_key = {track_name:track_id}\n",
    "track_key"
   ]
  },
  {
   "cell_type": "code",
   "execution_count": 41,
   "metadata": {},
   "outputs": [],
   "source": [
    "track_info = sp.audio_features(track_key[track_name])"
   ]
  },
  {
   "cell_type": "code",
   "execution_count": 42,
   "metadata": {},
   "outputs": [
    {
     "output_type": "stream",
     "name": "stdout",
     "text": [
      "[{'acousticness': 0.192,\n  'analysis_url': 'https://api.spotify.com/v1/audio-analysis/21jGcNKet2qwijlDFuPiPb',\n  'danceability': 0.695,\n  'duration_ms': 215280,\n  'energy': 0.762,\n  'id': '21jGcNKet2qwijlDFuPiPb',\n  'instrumentalness': 0.00244,\n  'key': 0,\n  'liveness': 0.0863,\n  'loudness': -3.497,\n  'mode': 1,\n  'speechiness': 0.0395,\n  'tempo': 120.042,\n  'time_signature': 4,\n  'track_href': 'https://api.spotify.com/v1/tracks/21jGcNKet2qwijlDFuPiPb',\n  'type': 'audio_features',\n  'uri': 'spotify:track:21jGcNKet2qwijlDFuPiPb',\n  'valence': 0.553}]\n"
     ]
    }
   ],
   "source": [
    "pprint.pprint(track_info)"
   ]
  },
  {
   "cell_type": "code",
   "execution_count": null,
   "metadata": {},
   "outputs": [],
   "source": [
    "test.to_json(\"test.json\")"
   ]
  }
 ]
}