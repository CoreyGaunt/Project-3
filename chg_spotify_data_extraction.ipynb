{
 "metadata": {
  "language_info": {
   "codemirror_mode": {
    "name": "ipython",
    "version": 3
   },
   "file_extension": ".py",
   "mimetype": "text/x-python",
   "name": "python",
   "nbconvert_exporter": "python",
   "pygments_lexer": "ipython3",
   "version": "3.7.6-final"
  },
  "orig_nbformat": 2,
  "kernelspec": {
   "name": "Python 3.7.6 64-bit ('base': conda)",
   "display_name": "Python 3.7.6 64-bit ('base': conda)",
   "metadata": {
    "interpreter": {
     "hash": "b3ba2566441a7c06988d0923437866b63cedc61552a5af99d1f4fb67d367b25f"
    }
   }
  }
 },
 "nbformat": 4,
 "nbformat_minor": 2,
 "cells": [
  {
   "cell_type": "code",
   "execution_count": 1,
   "metadata": {},
   "outputs": [],
   "source": [
    "import argparse\n",
    "import logging\n",
    "import pandas as pd\n",
    "import spotipy\n",
    "from spotipy.oauth2 import SpotifyClientCredentials\n",
    "import pprint\n",
    "import numpy as np "
   ]
  },
  {
   "cell_type": "code",
   "execution_count": 2,
   "metadata": {},
   "outputs": [],
   "source": [
    "client_id = \"087c43da5f8f4701af2195902f821d91\"\n",
    "client_secret = \"4f1fae6fda2b4304a72390aeeca957fc\"\n",
    "client_credentials_manager = SpotifyClientCredentials(client_id=client_id, client_secret=client_secret)\n",
    "sp = spotipy.Spotify(client_credentials_manager=client_credentials_manager)"
   ]
  },
  {
   "cell_type": "code",
   "execution_count": 4,
   "metadata": {},
   "outputs": [],
   "source": [
    "response1 = sp.playlist_tracks('spotify:playlist:37i9dQZF1DWUQuMV5yVzhv')\n",
    "number_of_artist = np.arange(0,50)\n",
    "number_of_tracks = [0,1,2,3,4]\n",
    "uri_list = []\n",
    "track_names = []\n",
    "track_uris = []\n",
    "track_urls = []\n",
    "artist_names = []"
   ]
  },
  {
   "cell_type": "code",
   "execution_count": 5,
   "metadata": {},
   "outputs": [],
   "source": [
    "for number in number_of_artist:\n",
    "    uri = response1['items'][number]['track']['album']['artists'][0]['uri']\n",
    "    uri_list.append(uri)"
   ]
  },
  {
   "cell_type": "code",
   "execution_count": 6,
   "metadata": {},
   "outputs": [],
   "source": [
    "for uri in uri_list:\n",
    "    for number in number_of_tracks:\n",
    "        try:\n",
    "            response = sp.artist_top_tracks(uri)\n",
    "            t_name = response['tracks'][number]['name']\n",
    "            track_names.append(t_name)\n",
    "            t_uri = response['tracks'][number]['uri']\n",
    "            track_uris.append(t_uri)\n",
    "            t_url = response['tracks'][number]['external_urls']['spotify']\n",
    "            track_urls.append(t_url)\n",
    "            a_name = response['tracks'][0]['artists'][0]['name']\n",
    "            artist_names.append(a_name)\n",
    "        except:\n",
    "            print('Necessary Data Missing From Track Response')\n"
   ]
  },
  {
   "cell_type": "code",
   "execution_count": 7,
   "metadata": {},
   "outputs": [],
   "source": [
    "artist_info_dict = {\n",
    "    'Artist':artist_names,\n",
    "    'Tracks':track_names,\n",
    "    'Track_ID':track_uris,\n",
    "    'Track_Play_URL':track_urls\n",
    "}"
   ]
  },
  {
   "cell_type": "code",
   "execution_count": 11,
   "metadata": {},
   "outputs": [
    {
     "output_type": "stream",
     "name": "stdout",
     "text": [
      "Post Malone\nPost Malone\nPost Malone\nPost Malone\nPost Malone\n"
     ]
    }
   ],
   "source": []
  },
  {
   "cell_type": "code",
   "execution_count": 28,
   "metadata": {},
   "outputs": [],
   "source": [
    "cleaned = pd.DataFrame(artist_info_dict)"
   ]
  },
  {
   "cell_type": "code",
   "execution_count": 29,
   "metadata": {},
   "outputs": [
    {
     "output_type": "execute_result",
     "data": {
      "text/plain": [
       "          Artist                                         Tracks  \\\n",
       "0    Post Malone                                        Circles   \n",
       "1    Post Malone                     rockstar (feat. 21 Savage)   \n",
       "2    Post Malone  Sunflower - Spider-Man: Into the Spider-Verse   \n",
       "3    Post Malone                                     Better Now   \n",
       "4    Post Malone                                           Wow.   \n",
       "..           ...                                            ...   \n",
       "245         Kygo                  What's Love Got to Do with It   \n",
       "246         Kygo                                  Lose Somebody   \n",
       "247         Kygo                                    Higher Love   \n",
       "248         Kygo                                      Hot Stuff   \n",
       "249         Kygo                                      Firestone   \n",
       "\n",
       "                                 Track_ID  \\\n",
       "0    spotify:track:21jGcNKet2qwijlDFuPiPb   \n",
       "1    spotify:track:0e7ipj03S05BNilyu5bRzt   \n",
       "2    spotify:track:0RiRZpuVRbi7oqRdSMwhQY   \n",
       "3    spotify:track:7dt6x5M1jzdTEt8oCbisTK   \n",
       "4    spotify:track:7xQAfvXzm3AkraOtGPWIZg   \n",
       "..                                    ...   \n",
       "245  spotify:track:3Be7CLdHZpyzsVijme39cW   \n",
       "246  spotify:track:1sgDyuLooyvEML4oHspNza   \n",
       "247  spotify:track:1kKYjjfNYxE0YYgLa7vgVY   \n",
       "248  spotify:track:00ETaeHUQ6lops3oWU1Wrt   \n",
       "249  spotify:track:1I8tHoNBFTuoJAlh4hfVVE   \n",
       "\n",
       "                                        Track_Play_URL  \n",
       "0    https://open.spotify.com/track/21jGcNKet2qwijl...  \n",
       "1    https://open.spotify.com/track/0e7ipj03S05BNil...  \n",
       "2    https://open.spotify.com/track/0RiRZpuVRbi7oqR...  \n",
       "3    https://open.spotify.com/track/7dt6x5M1jzdTEt8...  \n",
       "4    https://open.spotify.com/track/7xQAfvXzm3AkraO...  \n",
       "..                                                 ...  \n",
       "245  https://open.spotify.com/track/3Be7CLdHZpyzsVi...  \n",
       "246  https://open.spotify.com/track/1sgDyuLooyvEML4...  \n",
       "247  https://open.spotify.com/track/1kKYjjfNYxE0YYg...  \n",
       "248  https://open.spotify.com/track/00ETaeHUQ6lops3...  \n",
       "249  https://open.spotify.com/track/1I8tHoNBFTuoJAl...  \n",
       "\n",
       "[250 rows x 4 columns]"
      ],
      "text/html": "<div>\n<style scoped>\n    .dataframe tbody tr th:only-of-type {\n        vertical-align: middle;\n    }\n\n    .dataframe tbody tr th {\n        vertical-align: top;\n    }\n\n    .dataframe thead th {\n        text-align: right;\n    }\n</style>\n<table border=\"1\" class=\"dataframe\">\n  <thead>\n    <tr style=\"text-align: right;\">\n      <th></th>\n      <th>Artist</th>\n      <th>Tracks</th>\n      <th>Track_ID</th>\n      <th>Track_Play_URL</th>\n    </tr>\n  </thead>\n  <tbody>\n    <tr>\n      <th>0</th>\n      <td>Post Malone</td>\n      <td>Circles</td>\n      <td>spotify:track:21jGcNKet2qwijlDFuPiPb</td>\n      <td>https://open.spotify.com/track/21jGcNKet2qwijl...</td>\n    </tr>\n    <tr>\n      <th>1</th>\n      <td>Post Malone</td>\n      <td>rockstar (feat. 21 Savage)</td>\n      <td>spotify:track:0e7ipj03S05BNilyu5bRzt</td>\n      <td>https://open.spotify.com/track/0e7ipj03S05BNil...</td>\n    </tr>\n    <tr>\n      <th>2</th>\n      <td>Post Malone</td>\n      <td>Sunflower - Spider-Man: Into the Spider-Verse</td>\n      <td>spotify:track:0RiRZpuVRbi7oqRdSMwhQY</td>\n      <td>https://open.spotify.com/track/0RiRZpuVRbi7oqR...</td>\n    </tr>\n    <tr>\n      <th>3</th>\n      <td>Post Malone</td>\n      <td>Better Now</td>\n      <td>spotify:track:7dt6x5M1jzdTEt8oCbisTK</td>\n      <td>https://open.spotify.com/track/7dt6x5M1jzdTEt8...</td>\n    </tr>\n    <tr>\n      <th>4</th>\n      <td>Post Malone</td>\n      <td>Wow.</td>\n      <td>spotify:track:7xQAfvXzm3AkraOtGPWIZg</td>\n      <td>https://open.spotify.com/track/7xQAfvXzm3AkraO...</td>\n    </tr>\n    <tr>\n      <th>...</th>\n      <td>...</td>\n      <td>...</td>\n      <td>...</td>\n      <td>...</td>\n    </tr>\n    <tr>\n      <th>245</th>\n      <td>Kygo</td>\n      <td>What's Love Got to Do with It</td>\n      <td>spotify:track:3Be7CLdHZpyzsVijme39cW</td>\n      <td>https://open.spotify.com/track/3Be7CLdHZpyzsVi...</td>\n    </tr>\n    <tr>\n      <th>246</th>\n      <td>Kygo</td>\n      <td>Lose Somebody</td>\n      <td>spotify:track:1sgDyuLooyvEML4oHspNza</td>\n      <td>https://open.spotify.com/track/1sgDyuLooyvEML4...</td>\n    </tr>\n    <tr>\n      <th>247</th>\n      <td>Kygo</td>\n      <td>Higher Love</td>\n      <td>spotify:track:1kKYjjfNYxE0YYgLa7vgVY</td>\n      <td>https://open.spotify.com/track/1kKYjjfNYxE0YYg...</td>\n    </tr>\n    <tr>\n      <th>248</th>\n      <td>Kygo</td>\n      <td>Hot Stuff</td>\n      <td>spotify:track:00ETaeHUQ6lops3oWU1Wrt</td>\n      <td>https://open.spotify.com/track/00ETaeHUQ6lops3...</td>\n    </tr>\n    <tr>\n      <th>249</th>\n      <td>Kygo</td>\n      <td>Firestone</td>\n      <td>spotify:track:1I8tHoNBFTuoJAlh4hfVVE</td>\n      <td>https://open.spotify.com/track/1I8tHoNBFTuoJAl...</td>\n    </tr>\n  </tbody>\n</table>\n<p>250 rows × 4 columns</p>\n</div>"
     },
     "metadata": {},
     "execution_count": 29
    }
   ],
   "source": [
    "cleaned"
   ]
  },
  {
   "cell_type": "code",
   "execution_count": null,
   "metadata": {},
   "outputs": [],
   "source": [
    "track_info = sp.audio_features(track_key[track_name])\n",
    "track_info"
   ]
  }
 ]
}